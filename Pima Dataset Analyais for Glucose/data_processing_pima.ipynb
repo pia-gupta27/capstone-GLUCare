{
  "cells": [
    {
      "cell_type": "markdown",
      "source": [
        "# Data Preprocessing"
      ],
      "metadata": {
        "id": "_Awhk9IKkZ57"
      }
    },
    {
      "cell_type": "code",
      "execution_count": null,
      "metadata": {
        "_kg_hide-input": true,
        "execution": {
          "iopub.execute_input": "2020-10-09T09:55:30.683268Z",
          "iopub.status.busy": "2020-10-09T09:55:30.682566Z",
          "iopub.status.idle": "2020-10-09T09:55:31.675306Z",
          "shell.execute_reply": "2020-10-09T09:55:31.674438Z"
        },
        "papermill": {
          "duration": 1.021183,
          "end_time": "2020-10-09T09:55:31.675462",
          "exception": false,
          "start_time": "2020-10-09T09:55:30.654279",
          "status": "completed"
        },
        "tags": [],
        "id": "doEqz8ze32C5"
      },
      "outputs": [],
      "source": [
        "#importing libraries\n",
        "import numpy as np\n",
        "import pandas as pd\n",
        "import matplotlib.pyplot as plt\n",
        "import seaborn as sns\n",
        "sns.set()\n",
        "import warnings\n",
        "warnings.filterwarnings('ignore')\n",
        "\n"
      ]
    },
    {
      "cell_type": "code",
      "source": [
        "#importing the dataset\n",
        "dataset = pd.read_csv('diabetes2pima.csv')"
      ],
      "metadata": {
        "id": "XEDL6Q0g7hvM"
      },
      "execution_count": null,
      "outputs": []
    },
    {
      "cell_type": "code",
      "source": [
        "X = dataset.iloc[:,:-1].values\n",
        "y = dataset.iloc[:,-1].values"
      ],
      "metadata": {
        "id": "yTKzYrEY6olb"
      },
      "execution_count": null,
      "outputs": []
    },
    {
      "cell_type": "code",
      "source": [
        "from sklearn.model_selection import train_test_split\n",
        "X_train, X_test, y_train, y_test = train_test_split(X, y, test_size = 0.2, random_state = 1)"
      ],
      "metadata": {
        "id": "V1utBpdEkU6J"
      },
      "execution_count": null,
      "outputs": []
    },
    {
      "cell_type": "code",
      "source": [
        "print(X_train)"
      ],
      "metadata": {
        "colab": {
          "base_uri": "https://localhost:8080/"
        },
        "id": "ZVAJEOekkq2-",
        "outputId": "e870a991-cb79-4998-acd6-c5818529ea83"
      },
      "execution_count": null,
      "outputs": [
        {
          "output_type": "stream",
          "name": "stdout",
          "text": [
            "[[ 80.    46.   130.   ...   0.64  40.     1.  ]\n",
            " [ 62.    36.     0.   ...   0.44  38.     1.  ]\n",
            " [ 74.    40.   105.   ...   0.2   45.     0.  ]\n",
            " ...\n",
            " [ 90.     0.     0.   ...   0.58  42.     1.  ]\n",
            " [ 72.     0.     0.   ...   0.48  26.     1.  ]\n",
            " [ 76.    37.     0.   ...   0.67  46.     1.  ]]\n"
          ]
        }
      ]
    },
    {
      "cell_type": "code",
      "source": [
        "dataset.head()"
      ],
      "metadata": {
        "colab": {
          "base_uri": "https://localhost:8080/",
          "height": 206
        },
        "id": "kdkt7vpFaiMS",
        "outputId": "9d0e639f-a6fa-4a64-8018-ffb4ef31652f"
      },
      "execution_count": null,
      "outputs": [
        {
          "output_type": "execute_result",
          "data": {
            "text/plain": [
              "   BloodPressure  SkinThickness  Insulin   BMI  DiabetesPedigreeFunction  Age  \\\n",
              "0             72             35        0  33.6                     0.627   50   \n",
              "1             66             29        0  26.6                     0.351   31   \n",
              "2             64              0        0  23.3                     0.672   32   \n",
              "3             66             23       94  28.1                     0.167   21   \n",
              "4             40             35      168  43.1                     2.288   33   \n",
              "\n",
              "   Diabetes  Glucose  \n",
              "0         1      148  \n",
              "1         0       85  \n",
              "2         1      183  \n",
              "3         0       89  \n",
              "4         1      137  "
            ],
            "text/html": [
              "\n",
              "  <div id=\"df-14ad366c-376e-49ef-a7b5-6b9efd9c895d\" class=\"colab-df-container\">\n",
              "    <div>\n",
              "<style scoped>\n",
              "    .dataframe tbody tr th:only-of-type {\n",
              "        vertical-align: middle;\n",
              "    }\n",
              "\n",
              "    .dataframe tbody tr th {\n",
              "        vertical-align: top;\n",
              "    }\n",
              "\n",
              "    .dataframe thead th {\n",
              "        text-align: right;\n",
              "    }\n",
              "</style>\n",
              "<table border=\"1\" class=\"dataframe\">\n",
              "  <thead>\n",
              "    <tr style=\"text-align: right;\">\n",
              "      <th></th>\n",
              "      <th>BloodPressure</th>\n",
              "      <th>SkinThickness</th>\n",
              "      <th>Insulin</th>\n",
              "      <th>BMI</th>\n",
              "      <th>DiabetesPedigreeFunction</th>\n",
              "      <th>Age</th>\n",
              "      <th>Diabetes</th>\n",
              "      <th>Glucose</th>\n",
              "    </tr>\n",
              "  </thead>\n",
              "  <tbody>\n",
              "    <tr>\n",
              "      <th>0</th>\n",
              "      <td>72</td>\n",
              "      <td>35</td>\n",
              "      <td>0</td>\n",
              "      <td>33.6</td>\n",
              "      <td>0.627</td>\n",
              "      <td>50</td>\n",
              "      <td>1</td>\n",
              "      <td>148</td>\n",
              "    </tr>\n",
              "    <tr>\n",
              "      <th>1</th>\n",
              "      <td>66</td>\n",
              "      <td>29</td>\n",
              "      <td>0</td>\n",
              "      <td>26.6</td>\n",
              "      <td>0.351</td>\n",
              "      <td>31</td>\n",
              "      <td>0</td>\n",
              "      <td>85</td>\n",
              "    </tr>\n",
              "    <tr>\n",
              "      <th>2</th>\n",
              "      <td>64</td>\n",
              "      <td>0</td>\n",
              "      <td>0</td>\n",
              "      <td>23.3</td>\n",
              "      <td>0.672</td>\n",
              "      <td>32</td>\n",
              "      <td>1</td>\n",
              "      <td>183</td>\n",
              "    </tr>\n",
              "    <tr>\n",
              "      <th>3</th>\n",
              "      <td>66</td>\n",
              "      <td>23</td>\n",
              "      <td>94</td>\n",
              "      <td>28.1</td>\n",
              "      <td>0.167</td>\n",
              "      <td>21</td>\n",
              "      <td>0</td>\n",
              "      <td>89</td>\n",
              "    </tr>\n",
              "    <tr>\n",
              "      <th>4</th>\n",
              "      <td>40</td>\n",
              "      <td>35</td>\n",
              "      <td>168</td>\n",
              "      <td>43.1</td>\n",
              "      <td>2.288</td>\n",
              "      <td>33</td>\n",
              "      <td>1</td>\n",
              "      <td>137</td>\n",
              "    </tr>\n",
              "  </tbody>\n",
              "</table>\n",
              "</div>\n",
              "    <div class=\"colab-df-buttons\">\n",
              "\n",
              "  <div class=\"colab-df-container\">\n",
              "    <button class=\"colab-df-convert\" onclick=\"convertToInteractive('df-14ad366c-376e-49ef-a7b5-6b9efd9c895d')\"\n",
              "            title=\"Convert this dataframe to an interactive table.\"\n",
              "            style=\"display:none;\">\n",
              "\n",
              "  <svg xmlns=\"http://www.w3.org/2000/svg\" height=\"24px\" viewBox=\"0 -960 960 960\">\n",
              "    <path d=\"M120-120v-720h720v720H120Zm60-500h600v-160H180v160Zm220 220h160v-160H400v160Zm0 220h160v-160H400v160ZM180-400h160v-160H180v160Zm440 0h160v-160H620v160ZM180-180h160v-160H180v160Zm440 0h160v-160H620v160Z\"/>\n",
              "  </svg>\n",
              "    </button>\n",
              "\n",
              "  <style>\n",
              "    .colab-df-container {\n",
              "      display:flex;\n",
              "      gap: 12px;\n",
              "    }\n",
              "\n",
              "    .colab-df-convert {\n",
              "      background-color: #E8F0FE;\n",
              "      border: none;\n",
              "      border-radius: 50%;\n",
              "      cursor: pointer;\n",
              "      display: none;\n",
              "      fill: #1967D2;\n",
              "      height: 32px;\n",
              "      padding: 0 0 0 0;\n",
              "      width: 32px;\n",
              "    }\n",
              "\n",
              "    .colab-df-convert:hover {\n",
              "      background-color: #E2EBFA;\n",
              "      box-shadow: 0px 1px 2px rgba(60, 64, 67, 0.3), 0px 1px 3px 1px rgba(60, 64, 67, 0.15);\n",
              "      fill: #174EA6;\n",
              "    }\n",
              "\n",
              "    .colab-df-buttons div {\n",
              "      margin-bottom: 4px;\n",
              "    }\n",
              "\n",
              "    [theme=dark] .colab-df-convert {\n",
              "      background-color: #3B4455;\n",
              "      fill: #D2E3FC;\n",
              "    }\n",
              "\n",
              "    [theme=dark] .colab-df-convert:hover {\n",
              "      background-color: #434B5C;\n",
              "      box-shadow: 0px 1px 3px 1px rgba(0, 0, 0, 0.15);\n",
              "      filter: drop-shadow(0px 1px 2px rgba(0, 0, 0, 0.3));\n",
              "      fill: #FFFFFF;\n",
              "    }\n",
              "  </style>\n",
              "\n",
              "    <script>\n",
              "      const buttonEl =\n",
              "        document.querySelector('#df-14ad366c-376e-49ef-a7b5-6b9efd9c895d button.colab-df-convert');\n",
              "      buttonEl.style.display =\n",
              "        google.colab.kernel.accessAllowed ? 'block' : 'none';\n",
              "\n",
              "      async function convertToInteractive(key) {\n",
              "        const element = document.querySelector('#df-14ad366c-376e-49ef-a7b5-6b9efd9c895d');\n",
              "        const dataTable =\n",
              "          await google.colab.kernel.invokeFunction('convertToInteractive',\n",
              "                                                    [key], {});\n",
              "        if (!dataTable) return;\n",
              "\n",
              "        const docLinkHtml = 'Like what you see? Visit the ' +\n",
              "          '<a target=\"_blank\" href=https://colab.research.google.com/notebooks/data_table.ipynb>data table notebook</a>'\n",
              "          + ' to learn more about interactive tables.';\n",
              "        element.innerHTML = '';\n",
              "        dataTable['output_type'] = 'display_data';\n",
              "        await google.colab.output.renderOutput(dataTable, element);\n",
              "        const docLink = document.createElement('div');\n",
              "        docLink.innerHTML = docLinkHtml;\n",
              "        element.appendChild(docLink);\n",
              "      }\n",
              "    </script>\n",
              "  </div>\n",
              "\n",
              "\n",
              "<div id=\"df-1e1fffc1-846e-4cf9-bf36-13e1e2d60ae0\">\n",
              "  <button class=\"colab-df-quickchart\" onclick=\"quickchart('df-1e1fffc1-846e-4cf9-bf36-13e1e2d60ae0')\"\n",
              "            title=\"Suggest charts\"\n",
              "            style=\"display:none;\">\n",
              "\n",
              "<svg xmlns=\"http://www.w3.org/2000/svg\" height=\"24px\"viewBox=\"0 0 24 24\"\n",
              "     width=\"24px\">\n",
              "    <g>\n",
              "        <path d=\"M19 3H5c-1.1 0-2 .9-2 2v14c0 1.1.9 2 2 2h14c1.1 0 2-.9 2-2V5c0-1.1-.9-2-2-2zM9 17H7v-7h2v7zm4 0h-2V7h2v10zm4 0h-2v-4h2v4z\"/>\n",
              "    </g>\n",
              "</svg>\n",
              "  </button>\n",
              "\n",
              "<style>\n",
              "  .colab-df-quickchart {\n",
              "      --bg-color: #E8F0FE;\n",
              "      --fill-color: #1967D2;\n",
              "      --hover-bg-color: #E2EBFA;\n",
              "      --hover-fill-color: #174EA6;\n",
              "      --disabled-fill-color: #AAA;\n",
              "      --disabled-bg-color: #DDD;\n",
              "  }\n",
              "\n",
              "  [theme=dark] .colab-df-quickchart {\n",
              "      --bg-color: #3B4455;\n",
              "      --fill-color: #D2E3FC;\n",
              "      --hover-bg-color: #434B5C;\n",
              "      --hover-fill-color: #FFFFFF;\n",
              "      --disabled-bg-color: #3B4455;\n",
              "      --disabled-fill-color: #666;\n",
              "  }\n",
              "\n",
              "  .colab-df-quickchart {\n",
              "    background-color: var(--bg-color);\n",
              "    border: none;\n",
              "    border-radius: 50%;\n",
              "    cursor: pointer;\n",
              "    display: none;\n",
              "    fill: var(--fill-color);\n",
              "    height: 32px;\n",
              "    padding: 0;\n",
              "    width: 32px;\n",
              "  }\n",
              "\n",
              "  .colab-df-quickchart:hover {\n",
              "    background-color: var(--hover-bg-color);\n",
              "    box-shadow: 0 1px 2px rgba(60, 64, 67, 0.3), 0 1px 3px 1px rgba(60, 64, 67, 0.15);\n",
              "    fill: var(--button-hover-fill-color);\n",
              "  }\n",
              "\n",
              "  .colab-df-quickchart-complete:disabled,\n",
              "  .colab-df-quickchart-complete:disabled:hover {\n",
              "    background-color: var(--disabled-bg-color);\n",
              "    fill: var(--disabled-fill-color);\n",
              "    box-shadow: none;\n",
              "  }\n",
              "\n",
              "  .colab-df-spinner {\n",
              "    border: 2px solid var(--fill-color);\n",
              "    border-color: transparent;\n",
              "    border-bottom-color: var(--fill-color);\n",
              "    animation:\n",
              "      spin 1s steps(1) infinite;\n",
              "  }\n",
              "\n",
              "  @keyframes spin {\n",
              "    0% {\n",
              "      border-color: transparent;\n",
              "      border-bottom-color: var(--fill-color);\n",
              "      border-left-color: var(--fill-color);\n",
              "    }\n",
              "    20% {\n",
              "      border-color: transparent;\n",
              "      border-left-color: var(--fill-color);\n",
              "      border-top-color: var(--fill-color);\n",
              "    }\n",
              "    30% {\n",
              "      border-color: transparent;\n",
              "      border-left-color: var(--fill-color);\n",
              "      border-top-color: var(--fill-color);\n",
              "      border-right-color: var(--fill-color);\n",
              "    }\n",
              "    40% {\n",
              "      border-color: transparent;\n",
              "      border-right-color: var(--fill-color);\n",
              "      border-top-color: var(--fill-color);\n",
              "    }\n",
              "    60% {\n",
              "      border-color: transparent;\n",
              "      border-right-color: var(--fill-color);\n",
              "    }\n",
              "    80% {\n",
              "      border-color: transparent;\n",
              "      border-right-color: var(--fill-color);\n",
              "      border-bottom-color: var(--fill-color);\n",
              "    }\n",
              "    90% {\n",
              "      border-color: transparent;\n",
              "      border-bottom-color: var(--fill-color);\n",
              "    }\n",
              "  }\n",
              "</style>\n",
              "\n",
              "  <script>\n",
              "    async function quickchart(key) {\n",
              "      const quickchartButtonEl =\n",
              "        document.querySelector('#' + key + ' button');\n",
              "      quickchartButtonEl.disabled = true;  // To prevent multiple clicks.\n",
              "      quickchartButtonEl.classList.add('colab-df-spinner');\n",
              "      try {\n",
              "        const charts = await google.colab.kernel.invokeFunction(\n",
              "            'suggestCharts', [key], {});\n",
              "      } catch (error) {\n",
              "        console.error('Error during call to suggestCharts:', error);\n",
              "      }\n",
              "      quickchartButtonEl.classList.remove('colab-df-spinner');\n",
              "      quickchartButtonEl.classList.add('colab-df-quickchart-complete');\n",
              "    }\n",
              "    (() => {\n",
              "      let quickchartButtonEl =\n",
              "        document.querySelector('#df-1e1fffc1-846e-4cf9-bf36-13e1e2d60ae0 button');\n",
              "      quickchartButtonEl.style.display =\n",
              "        google.colab.kernel.accessAllowed ? 'block' : 'none';\n",
              "    })();\n",
              "  </script>\n",
              "</div>\n",
              "    </div>\n",
              "  </div>\n"
            ],
            "application/vnd.google.colaboratory.intrinsic+json": {
              "type": "dataframe",
              "variable_name": "dataset",
              "summary": "{\n  \"name\": \"dataset\",\n  \"rows\": 768,\n  \"fields\": [\n    {\n      \"column\": \"BloodPressure\",\n      \"properties\": {\n        \"dtype\": \"number\",\n        \"std\": 19,\n        \"min\": 0,\n        \"max\": 122,\n        \"num_unique_values\": 47,\n        \"samples\": [\n          86,\n          46,\n          85\n        ],\n        \"semantic_type\": \"\",\n        \"description\": \"\"\n      }\n    },\n    {\n      \"column\": \"SkinThickness\",\n      \"properties\": {\n        \"dtype\": \"number\",\n        \"std\": 15,\n        \"min\": 0,\n        \"max\": 99,\n        \"num_unique_values\": 51,\n        \"samples\": [\n          7,\n          12,\n          48\n        ],\n        \"semantic_type\": \"\",\n        \"description\": \"\"\n      }\n    },\n    {\n      \"column\": \"Insulin\",\n      \"properties\": {\n        \"dtype\": \"number\",\n        \"std\": 115,\n        \"min\": 0,\n        \"max\": 846,\n        \"num_unique_values\": 186,\n        \"samples\": [\n          52,\n          41,\n          183\n        ],\n        \"semantic_type\": \"\",\n        \"description\": \"\"\n      }\n    },\n    {\n      \"column\": \"BMI\",\n      \"properties\": {\n        \"dtype\": \"number\",\n        \"std\": 7.884160320375446,\n        \"min\": 0.0,\n        \"max\": 67.1,\n        \"num_unique_values\": 248,\n        \"samples\": [\n          19.9,\n          31.0,\n          38.1\n        ],\n        \"semantic_type\": \"\",\n        \"description\": \"\"\n      }\n    },\n    {\n      \"column\": \"DiabetesPedigreeFunction\",\n      \"properties\": {\n        \"dtype\": \"number\",\n        \"std\": 0.3313285950127749,\n        \"min\": 0.078,\n        \"max\": 2.42,\n        \"num_unique_values\": 517,\n        \"samples\": [\n          1.731,\n          0.426,\n          0.138\n        ],\n        \"semantic_type\": \"\",\n        \"description\": \"\"\n      }\n    },\n    {\n      \"column\": \"Age\",\n      \"properties\": {\n        \"dtype\": \"number\",\n        \"std\": 11,\n        \"min\": 21,\n        \"max\": 81,\n        \"num_unique_values\": 52,\n        \"samples\": [\n          60,\n          47,\n          72\n        ],\n        \"semantic_type\": \"\",\n        \"description\": \"\"\n      }\n    },\n    {\n      \"column\": \"Diabetes\",\n      \"properties\": {\n        \"dtype\": \"number\",\n        \"std\": 0,\n        \"min\": 0,\n        \"max\": 1,\n        \"num_unique_values\": 2,\n        \"samples\": [\n          0,\n          1\n        ],\n        \"semantic_type\": \"\",\n        \"description\": \"\"\n      }\n    },\n    {\n      \"column\": \"Glucose\",\n      \"properties\": {\n        \"dtype\": \"number\",\n        \"std\": 31,\n        \"min\": 0,\n        \"max\": 199,\n        \"num_unique_values\": 136,\n        \"samples\": [\n          151,\n          101\n        ],\n        \"semantic_type\": \"\",\n        \"description\": \"\"\n      }\n    }\n  ]\n}"
            }
          },
          "metadata": {},
          "execution_count": 35
        }
      ]
    },
    {
      "cell_type": "code",
      "source": [
        "from sklearn.preprocessing import StandardScaler\n",
        "sc = StandardScaler()\n",
        "X_train = sc.fit_transform(X_train)\n",
        "X_test = sc.transform(X_test)"
      ],
      "metadata": {
        "id": "1Ft-lDM3kp_y"
      },
      "execution_count": null,
      "outputs": []
    },
    {
      "cell_type": "code",
      "source": [
        "print(X_train)"
      ],
      "metadata": {
        "colab": {
          "base_uri": "https://localhost:8080/"
        },
        "id": "67lnfKe7lWEb",
        "outputId": "60fab116-8d35-4682-d6bb-aa04b713fcaf"
      },
      "execution_count": null,
      "outputs": [
        {
          "output_type": "stream",
          "name": "stdout",
          "text": [
            "[[ 0.56  1.65  0.44 ...  0.53  0.57  1.37]\n",
            " [-0.35  1.02 -0.68 ... -0.07  0.4   1.37]\n",
            " [ 0.26  1.27  0.22 ... -0.79  0.99 -0.73]\n",
            " ...\n",
            " [ 1.07 -1.25 -0.68 ...  0.36  0.74  1.37]\n",
            " [ 0.16 -1.25 -0.68 ...  0.05 -0.62  1.37]\n",
            " [ 0.36  1.08 -0.68 ...  0.62  1.08  1.37]]\n"
          ]
        }
      ]
    },
    {
      "cell_type": "code",
      "source": [
        "#importing ML models from scikit-learn\n",
        "from sklearn.linear_model import LinearRegression\n",
        "from sklearn.tree import DecisionTreeRegressor\n",
        "from sklearn.ensemble import RandomForestRegressor\n",
        "from sklearn.svm import SVR\n",
        "from sklearn.neighbors import KNeighborsRegressor\n",
        "from xgboost import XGBRegressor\n",
        "from sklearn.metrics import mean_absolute_error,mean_squared_error,r2_score"
      ],
      "metadata": {
        "id": "y6VaprizkyXn"
      },
      "execution_count": null,
      "outputs": []
    },
    {
      "cell_type": "code",
      "source": [
        "regressors = {\n",
        "    'Linear Regression' : LinearRegression(),\n",
        "    'Decision Tree' : DecisionTreeRegressor(),\n",
        "    'Random Forest' : RandomForestRegressor(),\n",
        "    'Support Vector Machines' : SVR(gamma=1),\n",
        "    'K-nearest Neighbors' : KNeighborsRegressor(n_neighbors=1),\n",
        "    'XGBoost' : XGBRegressor()\n",
        "}\n",
        "results=pd.DataFrame(columns=['MAE','MSE','R2-score'])\n",
        "for method,func in regressors.items():\n",
        "    model = func.fit(X_train,y_train)\n",
        "    pred = model.predict(X_test)\n",
        "    results.loc[method]= [np.round(mean_absolute_error(y_test,pred),3),\n",
        "                          np.round(mean_squared_error(y_test,pred),3),\n",
        "                          np.round(r2_score(y_test,pred),3)\n",
        "                         ]"
      ],
      "metadata": {
        "id": "9PFGMwYylFhM"
      },
      "execution_count": null,
      "outputs": []
    },
    {
      "cell_type": "code",
      "source": [
        "results.sort_values('R2-score',ascending=False).style.background_gradient(cmap='Greens',subset=['R2-score'])"
      ],
      "metadata": {
        "colab": {
          "base_uri": "https://localhost:8080/",
          "height": 237
        },
        "id": "GNtrd9gxlGS2",
        "outputId": "0005bf83-b167-47f1-cf7b-e1d1b8ed7d7b"
      },
      "execution_count": null,
      "outputs": [
        {
          "output_type": "execute_result",
          "data": {
            "text/plain": [
              "<pandas.io.formats.style.Styler at 0x7a7f311afc70>"
            ],
            "text/html": [
              "<style type=\"text/css\">\n",
              "#T_d093d_row0_col2 {\n",
              "  background-color: #00441b;\n",
              "  color: #f1f1f1;\n",
              "}\n",
              "#T_d093d_row1_col2 {\n",
              "  background-color: #00682a;\n",
              "  color: #f1f1f1;\n",
              "}\n",
              "#T_d093d_row2_col2 {\n",
              "  background-color: #0c7735;\n",
              "  color: #f1f1f1;\n",
              "}\n",
              "#T_d093d_row3_col2 {\n",
              "  background-color: #5ab769;\n",
              "  color: #f1f1f1;\n",
              "}\n",
              "#T_d093d_row4_col2 {\n",
              "  background-color: #d3eecd;\n",
              "  color: #000000;\n",
              "}\n",
              "#T_d093d_row5_col2 {\n",
              "  background-color: #f7fcf5;\n",
              "  color: #000000;\n",
              "}\n",
              "</style>\n",
              "<table id=\"T_d093d\" class=\"dataframe\">\n",
              "  <thead>\n",
              "    <tr>\n",
              "      <th class=\"blank level0\" >&nbsp;</th>\n",
              "      <th id=\"T_d093d_level0_col0\" class=\"col_heading level0 col0\" >MAE</th>\n",
              "      <th id=\"T_d093d_level0_col1\" class=\"col_heading level0 col1\" >MSE</th>\n",
              "      <th id=\"T_d093d_level0_col2\" class=\"col_heading level0 col2\" >R2-score</th>\n",
              "    </tr>\n",
              "  </thead>\n",
              "  <tbody>\n",
              "    <tr>\n",
              "      <th id=\"T_d093d_level0_row0\" class=\"row_heading level0 row0\" >Linear Regression</th>\n",
              "      <td id=\"T_d093d_row0_col0\" class=\"data row0 col0\" >19.689000</td>\n",
              "      <td id=\"T_d093d_row0_col1\" class=\"data row0 col1\" >754.113000</td>\n",
              "      <td id=\"T_d093d_row0_col2\" class=\"data row0 col2\" >0.314000</td>\n",
              "    </tr>\n",
              "    <tr>\n",
              "      <th id=\"T_d093d_level0_row1\" class=\"row_heading level0 row1\" >Random Forest</th>\n",
              "      <td id=\"T_d093d_row1_col0\" class=\"data row1 col0\" >20.212000</td>\n",
              "      <td id=\"T_d093d_row1_col1\" class=\"data row1 col1\" >818.922000</td>\n",
              "      <td id=\"T_d093d_row1_col2\" class=\"data row1 col2\" >0.255000</td>\n",
              "    </tr>\n",
              "    <tr>\n",
              "      <th id=\"T_d093d_level0_row2\" class=\"row_heading level0 row2\" >XGBoost</th>\n",
              "      <td id=\"T_d093d_row2_col0\" class=\"data row2 col0\" >20.779000</td>\n",
              "      <td id=\"T_d093d_row2_col1\" class=\"data row2 col1\" >854.292000</td>\n",
              "      <td id=\"T_d093d_row2_col2\" class=\"data row2 col2\" >0.222000</td>\n",
              "    </tr>\n",
              "    <tr>\n",
              "      <th id=\"T_d093d_level0_row3\" class=\"row_heading level0 row3\" >Support Vector Machines</th>\n",
              "      <td id=\"T_d093d_row3_col0\" class=\"data row3 col0\" >23.835000</td>\n",
              "      <td id=\"T_d093d_row3_col1\" class=\"data row3 col1\" >1010.508000</td>\n",
              "      <td id=\"T_d093d_row3_col2\" class=\"data row3 col2\" >0.080000</td>\n",
              "    </tr>\n",
              "    <tr>\n",
              "      <th id=\"T_d093d_level0_row4\" class=\"row_heading level0 row4\" >K-nearest Neighbors</th>\n",
              "      <td id=\"T_d093d_row4_col0\" class=\"data row4 col0\" >23.851000</td>\n",
              "      <td id=\"T_d093d_row4_col1\" class=\"data row4 col1\" >1225.513000</td>\n",
              "      <td id=\"T_d093d_row4_col2\" class=\"data row4 col2\" >-0.115000</td>\n",
              "    </tr>\n",
              "    <tr>\n",
              "      <th id=\"T_d093d_level0_row5\" class=\"row_heading level0 row5\" >Decision Tree</th>\n",
              "      <td id=\"T_d093d_row5_col0\" class=\"data row5 col0\" >27.091000</td>\n",
              "      <td id=\"T_d093d_row5_col1\" class=\"data row5 col1\" >1342.169000</td>\n",
              "      <td id=\"T_d093d_row5_col2\" class=\"data row5 col2\" >-0.222000</td>\n",
              "    </tr>\n",
              "  </tbody>\n",
              "</table>\n"
            ]
          },
          "metadata": {},
          "execution_count": 40
        }
      ]
    },
    {
      "cell_type": "code",
      "source": [
        "#Linear Regression\n",
        "#MLR\n",
        "from sklearn.linear_model import LinearRegression\n",
        "regressor1 = LinearRegression()\n",
        "regressor1.fit(X_train, y_train)"
      ],
      "metadata": {
        "colab": {
          "base_uri": "https://localhost:8080/",
          "height": 74
        },
        "id": "E7vli2KlbVMg",
        "outputId": "6f5d2320-43de-46f0-a831-2f056cb5d4dd"
      },
      "execution_count": null,
      "outputs": [
        {
          "output_type": "execute_result",
          "data": {
            "text/plain": [
              "LinearRegression()"
            ],
            "text/html": [
              "<style>#sk-container-id-3 {color: black;background-color: white;}#sk-container-id-3 pre{padding: 0;}#sk-container-id-3 div.sk-toggleable {background-color: white;}#sk-container-id-3 label.sk-toggleable__label {cursor: pointer;display: block;width: 100%;margin-bottom: 0;padding: 0.3em;box-sizing: border-box;text-align: center;}#sk-container-id-3 label.sk-toggleable__label-arrow:before {content: \"▸\";float: left;margin-right: 0.25em;color: #696969;}#sk-container-id-3 label.sk-toggleable__label-arrow:hover:before {color: black;}#sk-container-id-3 div.sk-estimator:hover label.sk-toggleable__label-arrow:before {color: black;}#sk-container-id-3 div.sk-toggleable__content {max-height: 0;max-width: 0;overflow: hidden;text-align: left;background-color: #f0f8ff;}#sk-container-id-3 div.sk-toggleable__content pre {margin: 0.2em;color: black;border-radius: 0.25em;background-color: #f0f8ff;}#sk-container-id-3 input.sk-toggleable__control:checked~div.sk-toggleable__content {max-height: 200px;max-width: 100%;overflow: auto;}#sk-container-id-3 input.sk-toggleable__control:checked~label.sk-toggleable__label-arrow:before {content: \"▾\";}#sk-container-id-3 div.sk-estimator input.sk-toggleable__control:checked~label.sk-toggleable__label {background-color: #d4ebff;}#sk-container-id-3 div.sk-label input.sk-toggleable__control:checked~label.sk-toggleable__label {background-color: #d4ebff;}#sk-container-id-3 input.sk-hidden--visually {border: 0;clip: rect(1px 1px 1px 1px);clip: rect(1px, 1px, 1px, 1px);height: 1px;margin: -1px;overflow: hidden;padding: 0;position: absolute;width: 1px;}#sk-container-id-3 div.sk-estimator {font-family: monospace;background-color: #f0f8ff;border: 1px dotted black;border-radius: 0.25em;box-sizing: border-box;margin-bottom: 0.5em;}#sk-container-id-3 div.sk-estimator:hover {background-color: #d4ebff;}#sk-container-id-3 div.sk-parallel-item::after {content: \"\";width: 100%;border-bottom: 1px solid gray;flex-grow: 1;}#sk-container-id-3 div.sk-label:hover label.sk-toggleable__label {background-color: #d4ebff;}#sk-container-id-3 div.sk-serial::before {content: \"\";position: absolute;border-left: 1px solid gray;box-sizing: border-box;top: 0;bottom: 0;left: 50%;z-index: 0;}#sk-container-id-3 div.sk-serial {display: flex;flex-direction: column;align-items: center;background-color: white;padding-right: 0.2em;padding-left: 0.2em;position: relative;}#sk-container-id-3 div.sk-item {position: relative;z-index: 1;}#sk-container-id-3 div.sk-parallel {display: flex;align-items: stretch;justify-content: center;background-color: white;position: relative;}#sk-container-id-3 div.sk-item::before, #sk-container-id-3 div.sk-parallel-item::before {content: \"\";position: absolute;border-left: 1px solid gray;box-sizing: border-box;top: 0;bottom: 0;left: 50%;z-index: -1;}#sk-container-id-3 div.sk-parallel-item {display: flex;flex-direction: column;z-index: 1;position: relative;background-color: white;}#sk-container-id-3 div.sk-parallel-item:first-child::after {align-self: flex-end;width: 50%;}#sk-container-id-3 div.sk-parallel-item:last-child::after {align-self: flex-start;width: 50%;}#sk-container-id-3 div.sk-parallel-item:only-child::after {width: 0;}#sk-container-id-3 div.sk-dashed-wrapped {border: 1px dashed gray;margin: 0 0.4em 0.5em 0.4em;box-sizing: border-box;padding-bottom: 0.4em;background-color: white;}#sk-container-id-3 div.sk-label label {font-family: monospace;font-weight: bold;display: inline-block;line-height: 1.2em;}#sk-container-id-3 div.sk-label-container {text-align: center;}#sk-container-id-3 div.sk-container {/* jupyter's `normalize.less` sets `[hidden] { display: none; }` but bootstrap.min.css set `[hidden] { display: none !important; }` so we also need the `!important` here to be able to override the default hidden behavior on the sphinx rendered scikit-learn.org. See: https://github.com/scikit-learn/scikit-learn/issues/21755 */display: inline-block !important;position: relative;}#sk-container-id-3 div.sk-text-repr-fallback {display: none;}</style><div id=\"sk-container-id-3\" class=\"sk-top-container\"><div class=\"sk-text-repr-fallback\"><pre>LinearRegression()</pre><b>In a Jupyter environment, please rerun this cell to show the HTML representation or trust the notebook. <br />On GitHub, the HTML representation is unable to render, please try loading this page with nbviewer.org.</b></div><div class=\"sk-container\" hidden><div class=\"sk-item\"><div class=\"sk-estimator sk-toggleable\"><input class=\"sk-toggleable__control sk-hidden--visually\" id=\"sk-estimator-id-3\" type=\"checkbox\" checked><label for=\"sk-estimator-id-3\" class=\"sk-toggleable__label sk-toggleable__label-arrow\">LinearRegression</label><div class=\"sk-toggleable__content\"><pre>LinearRegression()</pre></div></div></div></div></div>"
            ]
          },
          "metadata": {},
          "execution_count": 41
        }
      ]
    },
    {
      "cell_type": "code",
      "source": [
        "y_pred_test = regressor1.predict(X_test)\n",
        "np.set_printoptions(precision = 2)\n",
        "print(np.concatenate((y_pred_test.reshape(len(y_pred_test),1),y_test.reshape(len(y_test),1)),1))"
      ],
      "metadata": {
        "colab": {
          "base_uri": "https://localhost:8080/"
        },
        "id": "GZ5JRJfZbeTY",
        "outputId": "acf80589-8460-41ad-b08c-01635af80820"
      },
      "execution_count": null,
      "outputs": [
        {
          "output_type": "stream",
          "name": "stdout",
          "text": [
            "[[122.91 136.  ]\n",
            " [102.61 151.  ]\n",
            " [ 98.22 109.  ]\n",
            " [110.95  61.  ]\n",
            " [117.33 116.  ]\n",
            " [100.41 119.  ]\n",
            " [109.2  122.  ]\n",
            " [103.27 119.  ]\n",
            " [101.    97.  ]\n",
            " [109.88 105.  ]\n",
            " [104.86 137.  ]\n",
            " [111.97  95.  ]\n",
            " [129.28 180.  ]\n",
            " [151.06 138.  ]\n",
            " [ 99.45 118.  ]\n",
            " [143.4  165.  ]\n",
            " [137.08 115.  ]\n",
            " [108.98 126.  ]\n",
            " [ 97.28  99.  ]\n",
            " [105.86  78.  ]\n",
            " [147.24 125.  ]\n",
            " [130.33  85.  ]\n",
            " [145.14 163.  ]\n",
            " [130.55 111.  ]\n",
            " [102.77  88.  ]\n",
            " [116.88 128.  ]\n",
            " [114.81 112.  ]\n",
            " [131.31 164.  ]\n",
            " [113.53 102.  ]\n",
            " [131.28 136.  ]\n",
            " [134.24 118.  ]\n",
            " [103.58  91.  ]\n",
            " [105.42  96.  ]\n",
            " [170.29 181.  ]\n",
            " [104.19 108.  ]\n",
            " [150.79 144.  ]\n",
            " [ 99.16  88.  ]\n",
            " [112.4  110.  ]\n",
            " [107.    72.  ]\n",
            " [108.44 103.  ]\n",
            " [111.8  106.  ]\n",
            " [108.83 104.  ]\n",
            " [ 98.1   71.  ]\n",
            " [134.13 128.  ]\n",
            " [106.13 100.  ]\n",
            " [ 99.9   80.  ]\n",
            " [179.98 197.  ]\n",
            " [125.08 193.  ]\n",
            " [121.87 101.  ]\n",
            " [133.71  95.  ]\n",
            " [ 90.51  74.  ]\n",
            " [110.12 100.  ]\n",
            " [138.86 179.  ]\n",
            " [102.87  95.  ]\n",
            " [137.36 111.  ]\n",
            " [107.95  94.  ]\n",
            " [125.66 132.  ]\n",
            " [119.96 112.  ]\n",
            " [128.01 134.  ]\n",
            " [118.48  92.  ]\n",
            " [150.77 155.  ]\n",
            " [ 90.34  84.  ]\n",
            " [178.07 155.  ]\n",
            " [108.96 112.  ]\n",
            " [148.48 118.  ]\n",
            " [108.98 109.  ]\n",
            " [132.89   0.  ]\n",
            " [145.14 123.  ]\n",
            " [108.6  140.  ]\n",
            " [152.05 145.  ]\n",
            " [157.35 187.  ]\n",
            " [123.83 165.  ]\n",
            " [111.4  118.  ]\n",
            " [ 99.26  56.  ]\n",
            " [134.04 154.  ]\n",
            " [125.06 119.  ]\n",
            " [135.91 158.  ]\n",
            " [109.86 146.  ]\n",
            " [116.86 109.  ]\n",
            " [145.23 158.  ]\n",
            " [144.63 137.  ]\n",
            " [109.91 117.  ]\n",
            " [145.45 125.  ]\n",
            " [143.69 128.  ]\n",
            " [110.43  81.  ]\n",
            " [107.25 189.  ]\n",
            " [140.89 129.  ]\n",
            " [113.52  88.  ]\n",
            " [112.95 135.  ]\n",
            " [124.68 129.  ]\n",
            " [134.65 131.  ]\n",
            " [107.16 103.  ]\n",
            " [110.32 119.  ]\n",
            " [105.7  102.  ]\n",
            " [147.93 174.  ]\n",
            " [107.89 147.  ]\n",
            " [116.12 125.  ]\n",
            " [111.95  92.  ]\n",
            " [134.18 162.  ]\n",
            " [111.36 106.  ]\n",
            " [ 99.02  95.  ]\n",
            " [127.9  127.  ]\n",
            " [147.84 162.  ]\n",
            " [112.84 130.  ]\n",
            " [110.08 116.  ]\n",
            " [104.21  88.  ]\n",
            " [138.33 133.  ]\n",
            " [125.59 147.  ]\n",
            " [121.92 113.  ]\n",
            " [119.37  91.  ]\n",
            " [141.76 167.  ]\n",
            " [105.87  89.  ]\n",
            " [111.05 138.  ]\n",
            " [115.85 112.  ]\n",
            " [131.61   0.  ]\n",
            " [101.13 102.  ]\n",
            " [102.68  99.  ]\n",
            " [142.6  149.  ]\n",
            " [117.77 127.  ]\n",
            " [141.06 128.  ]\n",
            " [110.11  85.  ]\n",
            " [142.22 178.  ]\n",
            " [134.88 125.  ]\n",
            " [111.11 100.  ]\n",
            " [111.85 137.  ]\n",
            " [102.24  80.  ]\n",
            " [117.94  96.  ]\n",
            " [138.89  97.  ]\n",
            " [130.3  142.  ]\n",
            " [111.58 124.  ]\n",
            " [160.56 187.  ]\n",
            " [ 97.98  71.  ]\n",
            " [140.49 129.  ]\n",
            " [106.78 128.  ]\n",
            " [116.86 103.  ]\n",
            " [109.32 122.  ]\n",
            " [105.99  85.  ]\n",
            " [115.92 133.  ]\n",
            " [127.38 104.  ]\n",
            " [125.17 114.  ]\n",
            " [125.2  199.  ]\n",
            " [100.6   83.  ]\n",
            " [111.51 121.  ]\n",
            " [139.73 156.  ]\n",
            " [135.72 148.  ]\n",
            " [153.2  100.  ]\n",
            " [ 98.65  79.  ]\n",
            " [104.77  80.  ]\n",
            " [132.71 109.  ]\n",
            " [107.97  99.  ]\n",
            " [112.04 115.  ]\n",
            " [144.67 188.  ]\n",
            " [118.71 136.  ]\n",
            " [103.22  90.  ]]\n"
          ]
        }
      ]
    },
    {
      "cell_type": "code",
      "source": [
        "print(regressor1.coef_)\n",
        "print(regressor1.intercept_)"
      ],
      "metadata": {
        "colab": {
          "base_uri": "https://localhost:8080/"
        },
        "id": "VDtzNd-_be1a",
        "outputId": "7e4f0bb5-feb3-4249-b220-a7c563c38011"
      },
      "execution_count": null,
      "outputs": [
        {
          "output_type": "stream",
          "name": "stdout",
          "text": [
            "[ 1.51 -3.74 10.07  2.16  0.45  5.32 11.94]\n",
            "121.257328990228\n"
          ]
        }
      ]
    },
    {
      "cell_type": "code",
      "source": [
        "import matplotlib.pyplot as plt\n",
        "import numpy as np\n",
        "\n",
        "# Assume y_true is your true target values and y_pred is your predicted target values\n",
        "errors = np.abs(y_test - y_pred_test)\n",
        "\n",
        "plt.scatter(y_test, y_pred_test, c=errors, cmap='viridis')\n",
        "plt.plot([y_test.min(), y_test.max()], [y_test.min(), y_test.max()], 'k-', color = 'r')\n",
        "plt.xlabel('True Values')\n",
        "plt.ylabel('Predicted Values')\n",
        "plt.title('True vs Predicted Values')\n",
        "plt.colorbar(label='Absolute Error')\n",
        "plt.show()"
      ],
      "metadata": {
        "colab": {
          "base_uri": "https://localhost:8080/",
          "height": 480
        },
        "id": "omo2WyuObnoH",
        "outputId": "dc14f232-6e26-4335-88d8-37aa1d9afe14"
      },
      "execution_count": null,
      "outputs": [
        {
          "output_type": "display_data",
          "data": {
            "text/plain": [
              "<Figure size 640x480 with 2 Axes>"
            ],
            "image/png": "[encoded data removed]"
          },
          "metadata": {}
        }
      ]
    },
    {
      "cell_type": "code",
      "source": [
        "#Random forest\n",
        "from sklearn.ensemble import RandomForestRegressor\n",
        "regressor1 = RandomForestRegressor(n_estimators = 10, random_state = 0)\n",
        "regressor1.fit(X_train,y_train)"
      ],
      "metadata": {
        "colab": {
          "base_uri": "https://localhost:8080/",
          "height": 74
        },
        "id": "VxEWPLpamCFd",
        "outputId": "3312362a-3509-4a8b-966d-9629f916e421"
      },
      "execution_count": null,
      "outputs": [
        {
          "output_type": "execute_result",
          "data": {
            "text/plain": [
              "RandomForestRegressor(n_estimators=10, random_state=0)"
            ],
            "text/html": [
              "<style>#sk-container-id-4 {color: black;background-color: white;}#sk-container-id-4 pre{padding: 0;}#sk-container-id-4 div.sk-toggleable {background-color: white;}#sk-container-id-4 label.sk-toggleable__label {cursor: pointer;display: block;width: 100%;margin-bottom: 0;padding: 0.3em;box-sizing: border-box;text-align: center;}#sk-container-id-4 label.sk-toggleable__label-arrow:before {content: \"▸\";float: left;margin-right: 0.25em;color: #696969;}#sk-container-id-4 label.sk-toggleable__label-arrow:hover:before {color: black;}#sk-container-id-4 div.sk-estimator:hover label.sk-toggleable__label-arrow:before {color: black;}#sk-container-id-4 div.sk-toggleable__content {max-height: 0;max-width: 0;overflow: hidden;text-align: left;background-color: #f0f8ff;}#sk-container-id-4 div.sk-toggleable__content pre {margin: 0.2em;color: black;border-radius: 0.25em;background-color: #f0f8ff;}#sk-container-id-4 input.sk-toggleable__control:checked~div.sk-toggleable__content {max-height: 200px;max-width: 100%;overflow: auto;}#sk-container-id-4 input.sk-toggleable__control:checked~label.sk-toggleable__label-arrow:before {content: \"▾\";}#sk-container-id-4 div.sk-estimator input.sk-toggleable__control:checked~label.sk-toggleable__label {background-color: #d4ebff;}#sk-container-id-4 div.sk-label input.sk-toggleable__control:checked~label.sk-toggleable__label {background-color: #d4ebff;}#sk-container-id-4 input.sk-hidden--visually {border: 0;clip: rect(1px 1px 1px 1px);clip: rect(1px, 1px, 1px, 1px);height: 1px;margin: -1px;overflow: hidden;padding: 0;position: absolute;width: 1px;}#sk-container-id-4 div.sk-estimator {font-family: monospace;background-color: #f0f8ff;border: 1px dotted black;border-radius: 0.25em;box-sizing: border-box;margin-bottom: 0.5em;}#sk-container-id-4 div.sk-estimator:hover {background-color: #d4ebff;}#sk-container-id-4 div.sk-parallel-item::after {content: \"\";width: 100%;border-bottom: 1px solid gray;flex-grow: 1;}#sk-container-id-4 div.sk-label:hover label.sk-toggleable__label {background-color: #d4ebff;}#sk-container-id-4 div.sk-serial::before {content: \"\";position: absolute;border-left: 1px solid gray;box-sizing: border-box;top: 0;bottom: 0;left: 50%;z-index: 0;}#sk-container-id-4 div.sk-serial {display: flex;flex-direction: column;align-items: center;background-color: white;padding-right: 0.2em;padding-left: 0.2em;position: relative;}#sk-container-id-4 div.sk-item {position: relative;z-index: 1;}#sk-container-id-4 div.sk-parallel {display: flex;align-items: stretch;justify-content: center;background-color: white;position: relative;}#sk-container-id-4 div.sk-item::before, #sk-container-id-4 div.sk-parallel-item::before {content: \"\";position: absolute;border-left: 1px solid gray;box-sizing: border-box;top: 0;bottom: 0;left: 50%;z-index: -1;}#sk-container-id-4 div.sk-parallel-item {display: flex;flex-direction: column;z-index: 1;position: relative;background-color: white;}#sk-container-id-4 div.sk-parallel-item:first-child::after {align-self: flex-end;width: 50%;}#sk-container-id-4 div.sk-parallel-item:last-child::after {align-self: flex-start;width: 50%;}#sk-container-id-4 div.sk-parallel-item:only-child::after {width: 0;}#sk-container-id-4 div.sk-dashed-wrapped {border: 1px dashed gray;margin: 0 0.4em 0.5em 0.4em;box-sizing: border-box;padding-bottom: 0.4em;background-color: white;}#sk-container-id-4 div.sk-label label {font-family: monospace;font-weight: bold;display: inline-block;line-height: 1.2em;}#sk-container-id-4 div.sk-label-container {text-align: center;}#sk-container-id-4 div.sk-container {/* jupyter's `normalize.less` sets `[hidden] { display: none; }` but bootstrap.min.css set `[hidden] { display: none !important; }` so we also need the `!important` here to be able to override the default hidden behavior on the sphinx rendered scikit-learn.org. See: https://github.com/scikit-learn/scikit-learn/issues/21755 */display: inline-block !important;position: relative;}#sk-container-id-4 div.sk-text-repr-fallback {display: none;}</style><div id=\"sk-container-id-4\" class=\"sk-top-container\"><div class=\"sk-text-repr-fallback\"><pre>RandomForestRegressor(n_estimators=10, random_state=0)</pre><b>In a Jupyter environment, please rerun this cell to show the HTML representation or trust the notebook. <br />On GitHub, the HTML representation is unable to render, please try loading this page with nbviewer.org.</b></div><div class=\"sk-container\" hidden><div class=\"sk-item\"><div class=\"sk-estimator sk-toggleable\"><input class=\"sk-toggleable__control sk-hidden--visually\" id=\"sk-estimator-id-4\" type=\"checkbox\" checked><label for=\"sk-estimator-id-4\" class=\"sk-toggleable__label sk-toggleable__label-arrow\">RandomForestRegressor</label><div class=\"sk-toggleable__content\"><pre>RandomForestRegressor(n_estimators=10, random_state=0)</pre></div></div></div></div></div>"
            ]
          },
          "metadata": {},
          "execution_count": 45
        }
      ]
    },
    {
      "cell_type": "code",
      "source": [
        "y_pred_test = regressor1.predict(X_test)\n",
        "np.set_printoptions(precision = 2)\n",
        "print(np.concatenate((y_pred_test.reshape(len(y_pred_test),1),y_test.reshape(len(y_test),1)),1))"
      ],
      "metadata": {
        "colab": {
          "base_uri": "https://localhost:8080/"
        },
        "id": "JtVkUV5cmCZR",
        "outputId": "5b9c638e-c7ec-46ea-960a-d825f7d39751"
      },
      "execution_count": null,
      "outputs": [
        {
          "output_type": "stream",
          "name": "stdout",
          "text": [
            "[[134.9 136. ]\n",
            " [ 96.1 151. ]\n",
            " [102.3 109. ]\n",
            " [115.3  61. ]\n",
            " [118.7 116. ]\n",
            " [116.  119. ]\n",
            " [112.4 122. ]\n",
            " [ 85.9 119. ]\n",
            " [106.8  97. ]\n",
            " [110.9 105. ]\n",
            " [102.  137. ]\n",
            " [104.   95. ]\n",
            " [138.6 180. ]\n",
            " [140.9 138. ]\n",
            " [105.7 118. ]\n",
            " [148.  165. ]\n",
            " [144.5 115. ]\n",
            " [ 63.1 126. ]\n",
            " [ 81.2  99. ]\n",
            " [ 88.8  78. ]\n",
            " [116.6 125. ]\n",
            " [130.5  85. ]\n",
            " [111.6 163. ]\n",
            " [136.7 111. ]\n",
            " [ 99.   88. ]\n",
            " [123.8 128. ]\n",
            " [128.6 112. ]\n",
            " [132.5 164. ]\n",
            " [102.5 102. ]\n",
            " [140.4 136. ]\n",
            " [135.  118. ]\n",
            " [112.   91. ]\n",
            " [ 96.   96. ]\n",
            " [144.1 181. ]\n",
            " [ 99.  108. ]\n",
            " [130.8 144. ]\n",
            " [ 95.7  88. ]\n",
            " [119.6 110. ]\n",
            " [109.   72. ]\n",
            " [ 90.  103. ]\n",
            " [121.6 106. ]\n",
            " [ 97.1 104. ]\n",
            " [108.7  71. ]\n",
            " [136.3 128. ]\n",
            " [ 97.1 100. ]\n",
            " [ 90.5  80. ]\n",
            " [149.3 197. ]\n",
            " [119.9 193. ]\n",
            " [139.5 101. ]\n",
            " [128.2  95. ]\n",
            " [ 74.3  74. ]\n",
            " [101.1 100. ]\n",
            " [123.1 179. ]\n",
            " [ 97.8  95. ]\n",
            " [123.7 111. ]\n",
            " [ 87.2  94. ]\n",
            " [127.3 132. ]\n",
            " [110.7 112. ]\n",
            " [118.4 134. ]\n",
            " [132.   92. ]\n",
            " [153.6 155. ]\n",
            " [ 87.3  84. ]\n",
            " [166.1 155. ]\n",
            " [114.3 112. ]\n",
            " [154.8 118. ]\n",
            " [ 97.2 109. ]\n",
            " [138.2   0. ]\n",
            " [123.2 123. ]\n",
            " [101.6 140. ]\n",
            " [154.3 145. ]\n",
            " [172.9 187. ]\n",
            " [146.6 165. ]\n",
            " [105.7 118. ]\n",
            " [100.9  56. ]\n",
            " [116.7 154. ]\n",
            " [116.5 119. ]\n",
            " [141.8 158. ]\n",
            " [112.9 146. ]\n",
            " [119.6 109. ]\n",
            " [144.3 158. ]\n",
            " [138.9 137. ]\n",
            " [120.1 117. ]\n",
            " [160.3 125. ]\n",
            " [151.3 128. ]\n",
            " [ 94.   81. ]\n",
            " [102.6 189. ]\n",
            " [115.9 129. ]\n",
            " [ 94.4  88. ]\n",
            " [124.8 135. ]\n",
            " [129.4 129. ]\n",
            " [142.9 131. ]\n",
            " [114.9 103. ]\n",
            " [103.6 119. ]\n",
            " [109.8 102. ]\n",
            " [146.2 174. ]\n",
            " [107.4 147. ]\n",
            " [130.  125. ]\n",
            " [111.9  92. ]\n",
            " [112.2 162. ]\n",
            " [118.9 106. ]\n",
            " [100.6  95. ]\n",
            " [143.5 127. ]\n",
            " [149.  162. ]\n",
            " [128.8 130. ]\n",
            " [109.9 116. ]\n",
            " [113.4  88. ]\n",
            " [123.8 133. ]\n",
            " [128.6 147. ]\n",
            " [121.9 113. ]\n",
            " [136.9  91. ]\n",
            " [163.4 167. ]\n",
            " [100.9  89. ]\n",
            " [103.7 138. ]\n",
            " [121.8 112. ]\n",
            " [135.9   0. ]\n",
            " [ 78.4 102. ]\n",
            " [101.5  99. ]\n",
            " [134.3 149. ]\n",
            " [128.1 127. ]\n",
            " [136.7 128. ]\n",
            " [117.4  85. ]\n",
            " [127.1 178. ]\n",
            " [127.  125. ]\n",
            " [120.7 100. ]\n",
            " [121.5 137. ]\n",
            " [115.2  80. ]\n",
            " [ 87.   96. ]\n",
            " [141.   97. ]\n",
            " [125.9 142. ]\n",
            " [124.4 124. ]\n",
            " [129.7 187. ]\n",
            " [108.9  71. ]\n",
            " [132.1 129. ]\n",
            " [120.8 128. ]\n",
            " [123.  103. ]\n",
            " [ 97.3 122. ]\n",
            " [ 99.5  85. ]\n",
            " [116.1 133. ]\n",
            " [113.8 104. ]\n",
            " [141.8 114. ]\n",
            " [141.  199. ]\n",
            " [ 92.7  83. ]\n",
            " [117.4 121. ]\n",
            " [146.9 156. ]\n",
            " [117.2 148. ]\n",
            " [155.8 100. ]\n",
            " [112.6  79. ]\n",
            " [ 91.5  80. ]\n",
            " [164.9 109. ]\n",
            " [ 90.9  99. ]\n",
            " [118.2 115. ]\n",
            " [152.1 188. ]\n",
            " [118.1 136. ]\n",
            " [106.6  90. ]]\n"
          ]
        }
      ]
    },
    {
      "cell_type": "code",
      "source": [
        "import matplotlib.pyplot as plt\n",
        "\n",
        "# Assume y_true is your true target values and y_pred is your predicted target values\n",
        "plt.scatter(y_test, y_pred_test)\n",
        "plt.xlabel('True Values')\n",
        "plt.ylabel('Predicted Values')\n",
        "plt.title('True vs Predicted Values')\n",
        "plt.show()"
      ],
      "metadata": {
        "colab": {
          "base_uri": "https://localhost:8080/",
          "height": 480
        },
        "id": "qRwTFMP1mCsh",
        "outputId": "b2cd0732-73a6-4f96-f51f-3b0e08c558be"
      },
      "execution_count": null,
      "outputs": [
        {
          "output_type": "display_data",
          "data": {
            "text/plain": [
              "<Figure size 640x480 with 1 Axes>"
            ],
            "image/png": "[encoded data removed]"
          },
          "metadata": {}
        }
      ]
    },
    {
      "cell_type": "code",
      "source": [
        "import matplotlib.pyplot as plt\n",
        "import numpy as np\n",
        "\n",
        "# Assume y_true is your true target values and y_pred is your predicted target values\n",
        "errors = np.abs(y_test - y_pred_test)\n",
        "\n",
        "plt.scatter(y_test, y_pred_test, c=errors, cmap='viridis')\n",
        "plt.plot([y_test.min(), y_test.max()], [y_test.min(), y_test.max()], 'k-', color = 'r')\n",
        "plt.xlabel('True Values')\n",
        "plt.ylabel('Predicted Values')\n",
        "plt.title('True vs Predicted Values')\n",
        "plt.colorbar(label='Absolute Error')\n",
        "plt.show()"
      ],
      "metadata": {
        "colab": {
          "base_uri": "https://localhost:8080/",
          "height": 480
        },
        "id": "3rVqNsOTmC-W",
        "outputId": "9caa5259-d3cb-4861-fabe-d7cfbecc563c"
      },
      "execution_count": null,
      "outputs": [
        {
          "output_type": "display_data",
          "data": {
            "text/plain": [
              "<Figure size 640x480 with 2 Axes>"
            ],
            "image/png": "[encoded data removed]"
          },
          "metadata": {}
        }
      ]
    },
    {
      "cell_type": "code",
      "source": [
        "from sklearn.metrics import mean_absolute_error, mean_squared_error, r2_score\n",
        "\n",
        "# Assume y_true is your true target values and y_pred is your predicted target values\n",
        "\n",
        "# Calculate metrics\n",
        "mae = mean_absolute_error(y_test, y_pred_test)\n",
        "mse = mean_squared_error(y_test, y_pred_test)\n",
        "r2 = r2_score(y_test, y_pred_test)\n",
        "\n",
        "# Print metrics\n",
        "print(f\"Mean Absolute Error (MAE): {mae}\")\n",
        "print(f\"Mean Squared Error (MSE): {mse}\")\n",
        "print(f\"R2 Score: {r2}\")"
      ],
      "metadata": {
        "colab": {
          "base_uri": "https://localhost:8080/"
        },
        "id": "0VoWA40tmlJy",
        "outputId": "1f6accc7-3765-4837-c74f-f580328fc121"
      },
      "execution_count": null,
      "outputs": [
        {
          "output_type": "stream",
          "name": "stdout",
          "text": [
            "Mean Absolute Error (MAE): 21.0474025974026\n",
            "Mean Squared Error (MSE): 919.1757792207793\n",
            "R2 Score: 0.16336868106860591\n"
          ]
        }
      ]
    },
    {
      "cell_type": "code",
      "source": [
        "from sklearn.model_selection import cross_val_score\n",
        "accuracies = cross_val_score(estimator = regressor1, X = X_train, y= y_train, cv= 10)\n",
        "print(\"Accuracy: {:.2f}%\".format(accuracies.mean()*100))\n",
        "print(\"Standard Deviation: {:.2f}%\".format(accuracies.std()*100))"
      ],
      "metadata": {
        "colab": {
          "base_uri": "https://localhost:8080/"
        },
        "id": "URG09yFgmnUR",
        "outputId": "e0502d3f-fcfa-4fa7-b0be-e2ef2859eae7"
      },
      "execution_count": null,
      "outputs": [
        {
          "output_type": "stream",
          "name": "stdout",
          "text": [
            "Accuracy: 21.04%\n",
            "Standard Deviation: 12.80%\n"
          ]
        }
      ]
    }
  ],
  "metadata": {
    "kernelspec": {
      "display_name": "Python 3",
      "language": "python",
      "name": "python3"
    },
    "language_info": {
      "codemirror_mode": {
        "name": "ipython",
        "version": 3
      },
      "file_extension": ".py",
      "mimetype": "text/x-python",
      "name": "python",
      "nbconvert_exporter": "python",
      "pygments_lexer": "ipython3",
      "version": "3.7.6"
    },
    "papermill": {
      "duration": 94.559638,
      "end_time": "2020-10-09T09:56:52.085639",
      "environment_variables": {},
      "exception": null,
      "input_path": "__notebook__.ipynb",
      "output_path": "__notebook__.ipynb",
      "parameters": {},
      "start_time": "2020-10-09T09:55:17.526001",
      "version": "2.1.0"
    },
    "colab": {
      "provenance": []
    }
  },
  "nbformat": 4,
  "nbformat_minor": 0
}